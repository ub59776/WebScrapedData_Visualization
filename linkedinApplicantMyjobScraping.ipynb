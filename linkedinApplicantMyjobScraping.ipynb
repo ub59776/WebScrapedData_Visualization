{
 "cells": [
  {
   "cell_type": "code",
   "execution_count": null,
   "id": "f609fd07-6365-4469-bd3d-a70bc38af5b2",
   "metadata": {},
   "outputs": [],
   "source": [
    "import time\n",
    "from bs4 import BeautifulSoup\n",
    "from selenium import webdriver\n",
    "import pandas as pd \n",
    "from selenium.webdriver.common.by import By\n",
    "from selenium.webdriver.support.ui import WebDriverWait\n",
    "from selenium.webdriver.support import expected_conditions as EC\n",
    "from selenium.common.exceptions import TimeoutException \n",
    "from selenium.common.exceptions import NoSuchElementException"
   ]
  },
  {
   "cell_type": "code",
   "execution_count": null,
   "id": "40caefc3-4ec9-4e75-8b33-437295c3dc40",
   "metadata": {},
   "outputs": [],
   "source": [
    "# Prompt the user to input their LinkedIn username and password\n",
    "USERNAME = input(\"Enter your LinkedIn username: \")\n",
    "PASSWORD = input(\"Enter your LinkedIn password: \")\n",
    "\n",
    "# Set up the Selenium WebDriver using ChromeDriver\n",
    "driver = webdriver.Chrome()\n",
    "driver.get(\"https://linkedin.com/uas/login\")  # Open LinkedIn login page\n",
    "\n",
    "# Find and fill in the username field\n",
    "username_field = driver.find_element(By.ID, \"username\")\n",
    "username_field.send_keys(USERNAME)\n",
    "# Find and fill in the password field\n",
    "password_field = driver.find_element(By.ID, \"password\")\n",
    "password_field.send_keys(PASSWORD)\n",
    "\n",
    "# Click on the sign-in button\n",
    "sign_in_btn = driver.find_element(By.CSS_SELECTOR, \"button[type='submit']\")\n",
    "sign_in_btn.click()\n",
    "driver.maximize_window()  # Maximize the browser window for better visibility"
   ]
  },
  {
   "cell_type": "code",
   "execution_count": 49,
   "id": "18fc8906-319d-4353-adf3-0bc0a7f99588",
   "metadata": {},
   "outputs": [
    {
     "name": "stdout",
     "output_type": "stream",
     "text": [
      "Sign-in button clicked successfully\n"
     ]
    }
   ],
   "source": [
    "# Set up the Selenium WebDriver using ChromeDriver\n",
    "driver = webdriver.Chrome()\n",
    "driver.get(\"https://linkedin.com/uas/login\")  # Open LinkedIn login page\n",
    "\n",
    "# Find and fill in the username field\n",
    "username_field = driver.find_element(By.ID, \"username\")\n",
    "username_field.send_keys(USERNAME)\n",
    "\n",
    "# Find and fill in the password field\n",
    "password_field = driver.find_element(By.ID, \"password\")\n",
    "password_field.send_keys(PASSWORD)\n",
    "\n",
    "# Click on the sign-in button\n",
    "sign_in_btn = driver.find_element(By.CSS_SELECTOR, \"button[type='submit']\")\n",
    "sign_in_btn.click()\n",
    "\n",
    "# Assuming the click was successful if no exception is raised\n",
    "print(\"Sign-in button clicked successfully\")\n",
    "\n",
    "driver.maximize_window()  # Maximize the browser window for better visibility"
   ]
  },
  {
   "cell_type": "code",
   "execution_count": 51,
   "id": "843ef23e-3139-49ed-880a-951ffef0307f",
   "metadata": {},
   "outputs": [],
   "source": [
    "driver.get(\"https://www.linkedin.com/in/\")\n",
    "time.sleep(5)"
   ]
  },
  {
   "cell_type": "code",
   "execution_count": 78,
   "id": "f817ef71-ac96-4a2b-b4f7-e6e62fe74756",
   "metadata": {},
   "outputs": [],
   "source": [
    "applicantInfo = []\n",
    "\n",
    "# Wait until the necessary element is visible\n",
    "try:\n",
    "    # Wait for the Name element to appear\n",
    "    Name = WebDriverWait(driver, 10).until(\n",
    "        EC.presence_of_element_located((By.XPATH, \".//h1[contains(@class, 'text-heading-xlarge inline t-24 v-align-middle break-words')]\"))\n",
    "    ).text\n",
    "except:\n",
    "    Name = 'N/A'\n",
    "\n",
    "try:\n",
    "    # Wait for the College element to appear\n",
    "    College = WebDriverWait(driver, 10).until(\n",
    "        EC.presence_of_element_located((By.CSS_SELECTOR, \".xiQjVlXCUNirkDhOagALvmWatrIYbSXo.inline-show-more-text--is-collapsed.inline-show-more-text--is-collapsed-with-line-clamp\"))\n",
    "    ).text\n",
    "except:\n",
    "    College = 'N/A'\n",
    "\n",
    "try:\n",
    "    # Wait for the ApplicantLocation element to appear\n",
    "    ApplicantLocation = WebDriverWait(driver, 10).until(\n",
    "        EC.presence_of_element_located((By.XPATH, \".//span[contains(@class, 'text-body-small inline t-black--light break-words')]\"))\n",
    "    ).text\n",
    "except:\n",
    "    ApplicantLocation = 'N/A'\n",
    "\n",
    "applicantInfo.append([Name, College, ApplicantLocation])\n",
    "\n"
   ]
  },
  {
   "cell_type": "code",
   "execution_count": 57,
   "id": "78ece3ce-08bf-4ef3-a7e0-87aa0835a5c2",
   "metadata": {},
   "outputs": [],
   "source": [
    "\n",
    "# Navigate to the 'My Jobs' page\n",
    "driver.get(\"https://www.linkedin.com/my-items/saved-jobs/\")\n",
    "\n",
    "# Wait for the page to load\n",
    "time.sleep(5)\n"
   ]
  },
  {
   "cell_type": "code",
   "execution_count": 58,
   "id": "9de54d85-c7da-4ddb-b8b7-6ec531fa12ac",
   "metadata": {},
   "outputs": [
    {
     "name": "stdout",
     "output_type": "stream",
     "text": [
      "[<selenium.webdriver.remote.webelement.WebElement (session=\"f2bf663e0d79a1a841ed7e962a49bda8\", element=\"f.7DDADA7D158E89780BCEA67C3AB4AC20.d.1733E1D30FA626AFAC330BF1F0B025B9.e.325\")>, <selenium.webdriver.remote.webelement.WebElement (session=\"f2bf663e0d79a1a841ed7e962a49bda8\", element=\"f.7DDADA7D158E89780BCEA67C3AB4AC20.d.1733E1D30FA626AFAC330BF1F0B025B9.e.326\")>, <selenium.webdriver.remote.webelement.WebElement (session=\"f2bf663e0d79a1a841ed7e962a49bda8\", element=\"f.7DDADA7D158E89780BCEA67C3AB4AC20.d.1733E1D30FA626AFAC330BF1F0B025B9.e.327\")>, <selenium.webdriver.remote.webelement.WebElement (session=\"f2bf663e0d79a1a841ed7e962a49bda8\", element=\"f.7DDADA7D158E89780BCEA67C3AB4AC20.d.1733E1D30FA626AFAC330BF1F0B025B9.e.328\")>, <selenium.webdriver.remote.webelement.WebElement (session=\"f2bf663e0d79a1a841ed7e962a49bda8\", element=\"f.7DDADA7D158E89780BCEA67C3AB4AC20.d.1733E1D30FA626AFAC330BF1F0B025B9.e.329\")>, <selenium.webdriver.remote.webelement.WebElement (session=\"f2bf663e0d79a1a841ed7e962a49bda8\", element=\"f.7DDADA7D158E89780BCEA67C3AB4AC20.d.1733E1D30FA626AFAC330BF1F0B025B9.e.330\")>]\n"
     ]
    }
   ],
   "source": [
    "# Scrape the job application details\n",
    "applied_jobs = driver.find_elements(By.CLASS_NAME, 'reusable-search__result-container')\n",
    "print(applied_jobs)"
   ]
  },
  {
   "cell_type": "code",
   "execution_count": 59,
   "id": "c6f43d09-4a50-40d3-afcf-43cad3e832fa",
   "metadata": {},
   "outputs": [
    {
     "name": "stdout",
     "output_type": "stream",
     "text": [
      "[['Cloud Counselage Pvt. Ltd.', 'Game Development Intern', 'India ', 'Remote', 'Applied 5d ago'], ['Biocon Biologics', 'Internship- Engineering and Maintenance', 'Bengaluru ', 'On-site', 'Applied 3w ago'], ['alphastream.ai', 'NLP(Information retrieval)', 'Bangalore Urban ', 'On-site', 'Applied 4w ago'], ['Deloitte', 'Data Scientist ', 'Mumbai ', 'Hybrid', 'Applied 7mo ago'], ['Deloitte', 'Intern ', 'Mumbai ', 'On-site', 'Applied 7mo ago'], ['Sony Research India', 'Computer Vision Intern', 'Bengaluru ', 'Remote', 'Applied 11mo ago']]\n"
     ]
    }
   ],
   "source": [
    "job_data = []\n",
    "\n",
    "# Loop through the job cards and scrape details\n",
    "for job in applied_jobs:\n",
    "\n",
    "    try:\n",
    "        # Company name\n",
    "        company = job.find_element(By.XPATH, \".//div[@class='entity-result__primary-subtitle t-14 t-black t-normal']\").text\n",
    "    except:\n",
    "        company = 'N/A'\n",
    "        \n",
    "    try:\n",
    "        # Job title\n",
    "        title = job.find_element(By.XPATH, \".//div[@class='t-roman t-sans']\").text\n",
    "    except:\n",
    "        title = 'N/A'\n",
    "\n",
    "    try:\n",
    "        # location\n",
    "        location = job.find_element(By.XPATH, \".//div[@class='entity-result__secondary-subtitle t-14 t-normal']\").text\n",
    "    except:\n",
    "        location = 'N/A'\n",
    "        \n",
    "    try:\n",
    "        # Application status (e.g., Submitted, Viewed, etc.)\n",
    "        status = job.find_element(By.CLASS_NAME, 'reusable-search-simple-insight__text-container').text\n",
    "    except:\n",
    "        status = 'N/A'\n",
    "\n",
    "\n",
    "    #companylocation,mode\n",
    "    companylocation,mode=location.split('(')\n",
    "    mode=mode.replace(')','')\n",
    "\n",
    "    # Add the data to the list\n",
    "    job_data.append([company, title, companylocation, mode, status])\n",
    "print(job_data)\n",
    "    "
   ]
  },
  {
   "cell_type": "code",
   "execution_count": 63,
   "id": "2bf9125b-abb1-4758-9336-a7b6c14df208",
   "metadata": {},
   "outputs": [
    {
     "name": "stdout",
     "output_type": "stream",
     "text": [
      "Company: Cloud Counselage Pvt. Ltd., Job Title: Game Development Intern, Location: India , Mode of Work: Remote, Status: Applied 5d ago\n",
      "Company: Biocon Biologics, Job Title: Internship- Engineering and Maintenance, Location: Bengaluru , Mode of Work: On-site, Status: Applied 3w ago\n",
      "Company: alphastream.ai, Job Title: NLP(Information retrieval), Location: Bangalore Urban , Mode of Work: On-site, Status: Applied 4w ago\n",
      "Company: Deloitte, Job Title: Data Scientist , Location: Mumbai , Mode of Work: Hybrid, Status: Applied 7mo ago\n",
      "Company: Deloitte, Job Title: Intern , Location: Mumbai , Mode of Work: On-site, Status: Applied 7mo ago\n",
      "Company: Sony Research India, Job Title: Computer Vision Intern, Location: Bengaluru , Mode of Work: Remote, Status: Applied 11mo ago\n"
     ]
    }
   ],
   "source": [
    "# Print the collected data\n",
    "for job in job_data:\n",
    "    print(f\"Company: {job[0]}, Job Title: {job[1]}, Location: {job[2]}, Mode of Work: {job[3]}, Status: {job[4]}\")"
   ]
  },
  {
   "cell_type": "code",
   "execution_count": 76,
   "id": "c00c5086-7915-40e5-8c6a-311ab2cc24e2",
   "metadata": {},
   "outputs": [],
   "source": [
    "applicantInfo1=[]\n",
    "applicantInfo1=applicantInfo*len(job_data)"
   ]
  },
  {
   "cell_type": "code",
   "execution_count": 71,
   "id": "8b5aa6e7-a2ad-42e6-8b94-6ccfea381bf2",
   "metadata": {},
   "outputs": [],
   "source": [
    "# Convert both datasets to DataFrames\n",
    "df_applicant = pd.DataFrame(applicantInfo1, columns=['Name', 'College', 'ApplicantLocation'])\n",
    "df_job = pd.DataFrame(job_data, columns=['Company', 'Job Title', 'Location', 'Mode of Work', 'Applied on'])\n",
    "\n",
    "# Concatenate the two DataFrames horizontally\n",
    "df_combined = pd.concat([df_applicant, df_job], axis=1)\n",
    "\n",
    "# Save the combined data to a CSV file\n",
    "df_combined.to_csv('profile_applied_jobs_data.csv', index=False)\n",
    "\n",
    "# Close the browser\n",
    "driver.quit()"
   ]
  },
  {
   "cell_type": "code",
   "execution_count": null,
   "id": "46dd2465-d10e-4e73-af94-116b6e023568",
   "metadata": {},
   "outputs": [],
   "source": []
  }
 ],
 "metadata": {
  "kernelspec": {
   "display_name": "Python 3 (ipykernel)",
   "language": "python",
   "name": "python3"
  },
  "language_info": {
   "codemirror_mode": {
    "name": "ipython",
    "version": 3
   },
   "file_extension": ".py",
   "mimetype": "text/x-python",
   "name": "python",
   "nbconvert_exporter": "python",
   "pygments_lexer": "ipython3",
   "version": "3.12.4"
  }
 },
 "nbformat": 4,
 "nbformat_minor": 5
}
